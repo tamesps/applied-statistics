{
 "cells": [
  {
   "cell_type": "markdown",
   "id": "436dd93f-32ff-4821-b52d-606c29efcab6",
   "metadata": {},
   "source": [
    "## Aula 2"
   ]
  },
  {
   "cell_type": "code",
   "execution_count": null,
   "id": "bc871ed7-d69b-4692-86d1-5c8cd166bd7e",
   "metadata": {},
   "outputs": [],
   "source": []
  },
  {
   "cell_type": "markdown",
   "id": "1ee77606-6298-485d-adae-0345fc9025a5",
   "metadata": {},
   "source": [
    "### Ex1"
   ]
  },
  {
   "cell_type": "markdown",
   "id": "3845f407-4a25-4138-873d-2b42c6b62242",
   "metadata": {},
   "source": [
    "1 - Uma caixa usada em um sorteio contém 5 bolas pretas numeradas de 1 a 5, sete bolas brancas numeradas de 1 a 7 e oito bolas vermelhas numeradas de 1 a 8.\n",
    "\n",
    "i) Sorteando-se uma bola dessa caixa, qual é a probabilidade de encontrarmos uma bola preta?\n",
    "\n",
    "ii) Sorteando-se uma bola dessa caixa, qual é a probabilidade de encontrarmos uma bola par?\n",
    "\n",
    "iii) Sorteando-se uma bola preta, qual é a probabilidade de tal bola ser par?"
   ]
  },
  {
   "cell_type": "code",
   "execution_count": 231,
   "id": "7b0705aa-9187-429b-9761-027d2866e550",
   "metadata": {},
   "outputs": [
    {
     "name": "stdout",
     "output_type": "stream",
     "text": [
      "A probabilidade de sair uma bola preta é: 0.25\n"
     ]
    }
   ],
   "source": [
    "#i)\n",
    "P = 5\n",
    "B = 7\n",
    "V = 8\n",
    "\n",
    "prob_preta = 5/(B + V + P)\n",
    "print(\"A probabilidade de sair uma bola preta é:\", prob_preta)"
   ]
  },
  {
   "cell_type": "code",
   "execution_count": 255,
   "id": "8511c288-5254-4afd-ac6a-79fc016ff30e",
   "metadata": {},
   "outputs": [
    {
     "name": "stdout",
     "output_type": "stream",
     "text": [
      "A probabilidade de encontrarmos uma bola par é: 0.45\n"
     ]
    }
   ],
   "source": [
    "#ii)\n",
    "numeracao_P = np.arange(1,6)\n",
    "numeracao_B = np.arange(1,8)\n",
    "numeracao_V = np.arange(1,9)\n",
    "\n",
    "\n",
    "ways = np.concatenate((numeracao_P, numeracao_B, numeracao_V))\n",
    "\n",
    "even = 0\n",
    "\n",
    "for i in ways:\n",
    "    if i % 2 == 0:\n",
    "        even = even + 1\n",
    "        \n",
    "prob_par = even/len(ways)\n",
    "\n",
    "print(\"A probabilidade de encontrarmos uma bola par é:\", prob_par)"
   ]
  },
  {
   "cell_type": "code",
   "execution_count": 261,
   "id": "ab7edd78-8e6e-4260-a194-f00e19eaa0b4",
   "metadata": {},
   "outputs": [
    {
     "name": "stdout",
     "output_type": "stream",
     "text": [
      "A probabilidade de encontrarmos uma bola par dado que ela é preta é: 0.4\n"
     ]
    }
   ],
   "source": [
    "#ii)\n",
    "\n",
    "#p b inter a = p(b|a) * pa\n",
    "#p b inter a / pa = p(b|a)\n",
    "#a = preta #evidencia\n",
    "\n",
    "b_even = 0\n",
    "\n",
    "for i in numeracao_P: \n",
    "    if i % 2 == 0:\n",
    "        b_even = b_even + 1\n",
    "        \n",
    "p_even_and_preta = b_even/len(ways) #ser preta e ser par\n",
    "\n",
    "\n",
    "\n",
    "print(\"A probabilidade de encontrarmos uma bola par dado que ela é preta é:\", p_even_and_preta / prob_preta)"
   ]
  },
  {
   "cell_type": "markdown",
   "id": "609f742a-a970-4b25-a191-17ee0c6b3432",
   "metadata": {},
   "source": [
    "### Ex2"
   ]
  },
  {
   "cell_type": "markdown",
   "id": "f37a753c-633f-421b-bd67-ee1483c3b15f",
   "metadata": {},
   "source": [
    "2 - Suponha que uma pessoa em uma loja compre uma televisão com probabilidade igual a 0,4. A chance dessa pessoa comprar a televisão ou um sofá (ou ambos) é 0.7. Sejam os eventos:\n",
    "A: o indivíduo compra a televisão\n",
    "B: o indivíduo compra o sofá Determine P(B) quando:\n",
    "1. A e B são independentes.\n",
    "2. A e B são mutuamente exclusivos.\n",
    "3. P(A|B)=0,3."
   ]
  },
  {
   "cell_type": "markdown",
   "id": "605f1a68-bcc5-4521-bf64-176afb74c836",
   "metadata": {},
   "source": [
    "$P(A)$ = 0.4\n",
    "\n",
    "$P(A \\bigcup B) = 0.7$\n",
    "\n",
    "\n",
    "**1. A e B são independentes**\n",
    "\n",
    "$P(B) * 0.4 = P(A \\bigcap B)$\n",
    "\n",
    "$P(A \\bigcup B) = P(A) + P(B) - P(A \\bigcap B)$\n",
    "\n",
    "$0.7 = 0.4 + P(B) - (0.4P(B))$\n",
    "\n",
    "$0.7 - 0.4 = 0.6P(B) $\n",
    "\n"
   ]
  },
  {
   "cell_type": "code",
   "execution_count": 267,
   "id": "de42e298-cb67-4f71-ad79-fcfbad4c3de3",
   "metadata": {},
   "outputs": [
    {
     "name": "stdout",
     "output_type": "stream",
     "text": [
      "0.5\n"
     ]
    }
   ],
   "source": [
    "p_B = 0.3/0.6\n",
    "print(p_B)"
   ]
  },
  {
   "cell_type": "markdown",
   "id": "27e9b510-a4dd-4435-8198-c4467889bdc7",
   "metadata": {},
   "source": [
    "**2. A e B são mutuamente exclusivos.**\n",
    "\n",
    "$P(A \\bigcup B) = 0.7 $\n",
    "\n",
    "$P(B) = P(A \\bigcup B) - P(A)$\n",
    "\n",
    "$P(B) = 0.7 - 0.4 $"
   ]
  },
  {
   "cell_type": "code",
   "execution_count": 269,
   "id": "9b6aa4bc-6a13-456c-b3c5-806b65c7c418",
   "metadata": {},
   "outputs": [
    {
     "name": "stdout",
     "output_type": "stream",
     "text": [
      "0.3\n"
     ]
    }
   ],
   "source": [
    "p_B = 0.7 - 0.4\n",
    "print(round(p_B,2))"
   ]
  },
  {
   "cell_type": "markdown",
   "id": "f6aaa338-364c-4561-a703-a13385fc7d82",
   "metadata": {},
   "source": [
    "**3. P(A|B)=0.3**"
   ]
  },
  {
   "cell_type": "markdown",
   "id": "78199cf7-c307-413e-ae0f-f298d28db2d0",
   "metadata": {},
   "source": [
    "$ P(A|B) = \\frac {P(A \\bigcap B)}  {P(B)} $\n",
    "\n",
    "$ P(A|B) * P(B) = P(A \\bigcap B) $\n",
    "\n",
    "\n",
    "$P(A \\bigcup B) = P(A) + P(B) - P(A \\bigcap B)$\n",
    "\n",
    "\n",
    "$P(A \\bigcup B) = P(A) + P(B) - (P(A|B) * P(B))$\n",
    "\n",
    "$ 0.7 = 0.4 + P(B) - 0.3P(B) $\n",
    "\n",
    "$ 0.7 - 0.4 = 0.7P(B) $"
   ]
  },
  {
   "cell_type": "code",
   "execution_count": 275,
   "id": "d2b6cb40-507c-4f99-8179-5b292208a4c8",
   "metadata": {},
   "outputs": [
    {
     "name": "stdout",
     "output_type": "stream",
     "text": [
      "0.429\n"
     ]
    }
   ],
   "source": [
    "p_B = 0.3/0.7\n",
    "print(round(p_B, 3))"
   ]
  },
  {
   "cell_type": "markdown",
   "id": "cbcb2d61-0409-41da-b6b6-071ef62d3948",
   "metadata": {},
   "source": [
    "### Ex3"
   ]
  },
  {
   "cell_type": "markdown",
   "id": "2731a9fd-abbf-440a-9e0e-a2747a536e6c",
   "metadata": {},
   "source": [
    "3 - A probabilidade de chegada de um pacote TCP/IP em um servidor daqui a 1s é 2/5 e a probabilidade de chegar um pacote de email (SMTP) é igual a 2/3. Assumindo que os pacotes são independentes determinar a probabilidade de que daqui 1s:\n",
    "\n",
    "a) chegue os dois pacotes.\n",
    "\n",
    "b) chegue somente um pacote TCP/IP. \n",
    "\n",
    "c) não chegue nenhum pacote.\n",
    "\n",
    "d) chegue pelo menos um pacote."
   ]
  },
  {
   "cell_type": "code",
   "execution_count": 278,
   "id": "e76cc1a2-95cc-4a87-8cd3-ee572631b16d",
   "metadata": {},
   "outputs": [
    {
     "name": "stdout",
     "output_type": "stream",
     "text": [
      "0.27\n"
     ]
    }
   ],
   "source": [
    "#a) chegue os dois pacotes.\n",
    "\n",
    "pacote_tcp = 2/5\n",
    "pacote_smtp = 2/3\n",
    "\n",
    "print(round(pacote_tcp * pacote_smtp,2))"
   ]
  },
  {
   "cell_type": "code",
   "execution_count": 281,
   "id": "334905d5-dcb6-450c-9836-0f3146e8992b",
   "metadata": {},
   "outputs": [
    {
     "data": {
      "text/plain": [
       "0.13333333333333336"
      ]
     },
     "execution_count": 281,
     "metadata": {},
     "output_type": "execute_result"
    }
   ],
   "source": [
    "#b) \n",
    "#(p_b) * (1-p_a)\n",
    "\n",
    "2/5 * (1 - 2/3)"
   ]
  },
  {
   "cell_type": "code",
   "execution_count": 283,
   "id": "2f86d467-9371-4937-9496-7e729f3be178",
   "metadata": {},
   "outputs": [
    {
     "data": {
      "text/plain": [
       "0.2"
      ]
     },
     "execution_count": 283,
     "metadata": {},
     "output_type": "execute_result"
    }
   ],
   "source": [
    "#c) não chegue nenhum pacote.\n",
    "(1 - 2/5) * (1 - 2/3)"
   ]
  },
  {
   "cell_type": "code",
   "execution_count": 287,
   "id": "f6484b47-d406-4814-ae20-68bf14f53c98",
   "metadata": {},
   "outputs": [
    {
     "data": {
      "text/plain": [
       "0.8"
      ]
     },
     "execution_count": 287,
     "metadata": {},
     "output_type": "execute_result"
    }
   ],
   "source": [
    "#d) chegue pelo menos um pacote.\n",
    "\n",
    "2/5 + 2/3 - (2/5 * 2/3)\n",
    "#se fossem mutualmente exclusivos provavelmente nao seriam independentes, e sim dependentes"
   ]
  },
  {
   "cell_type": "markdown",
   "id": "77ffc2d5-13fd-4bb9-8131-1590ec64c3f9",
   "metadata": {},
   "source": [
    "## Teorema de Bayes"
   ]
  },
  {
   "cell_type": "markdown",
   "id": "bf289ad3-57ca-4abd-9db9-02a3476a48f0",
   "metadata": {},
   "source": [
    "### Ex 1"
   ]
  },
  {
   "cell_type": "markdown",
   "id": "20788292-1095-4347-99ed-d49bfe4033da",
   "metadata": {},
   "source": [
    "1 - Suponha que temos três moedas idênticas no formato, mas sendo que a primeira moeda tem ambos os lados vermelhos, a segunda tem ambos os lados azuis e a terceira tem um lado azul e o outro vermelho. A moedas são misturadas em uma caixa. Se retiramos uma moeda e mostramos um lado vermelho, qual é a probabilidade de que o outro lado seja azul?\n",
    "\n",
    "**a) 1/3**\n",
    "\n",
    "b) 1/2\n",
    "\n",
    "c) 2/5\n",
    "\n",
    "d) 2/3\n",
    "\n",
    "e) 4/9"
   ]
  },
  {
   "cell_type": "code",
   "execution_count": 297,
   "id": "1a3b5b61-6044-402b-8f17-35cee83e7348",
   "metadata": {},
   "outputs": [
    {
     "data": {
      "text/plain": [
       "0.3333333333333333"
      ]
     },
     "execution_count": 297,
     "metadata": {},
     "output_type": "execute_result"
    }
   ],
   "source": [
    "#ways of the other side be blue\n",
    "RR = 0\n",
    "BB = 2\n",
    "RB = 1\n",
    "\n",
    "ways = RB \n",
    "sum_of_ways = np.sum([RR, BB, RB])\n",
    "\n",
    "ways/sum_of_ways"
   ]
  },
  {
   "cell_type": "markdown",
   "id": "c77f3ee5-9c47-4123-b849-1f6cbdfbbaac",
   "metadata": {},
   "source": [
    "### Ex2"
   ]
  },
  {
   "cell_type": "markdown",
   "id": "fc284866-0ca4-4a19-811f-543c21522335",
   "metadata": {},
   "source": [
    "2 - Considere duas urnas. A primeira contém cinco bolas brancas e sete bolas pretas e a segunda contém quatro bolas brancas e cinco pretas. Nós lançamos uma moeda e retiramos uma bola da primeira ou da segunda urna, dependendo do resultado do lançamento, isto é, cara (urna 1) ou coroa (urna 2). Qual é a probabilidade condicional de que o resultado do lançamento da moeda foi cara, dado que uma bola branca foi retirada?"
   ]
  },
  {
   "cell_type": "code",
   "execution_count": 321,
   "id": "c87bfeac-0d2f-4ce1-b939-4c3e8bcf443c",
   "metadata": {},
   "outputs": [
    {
     "data": {
      "text/plain": [
       "0.4106222750693619"
      ]
     },
     "execution_count": 321,
     "metadata": {},
     "output_type": "execute_result"
    }
   ],
   "source": [
    "u1 = ['b', 'b', 'b', 'b', 'b','p', 'p', 'p', 'p' ,'p', 'p', 'p']\n",
    "u2 = ['b', 'b', 'b', 'b', 'p', 'p' ,'p', 'p', 'p']\n",
    "\n",
    "n_simulations = 10000\n",
    "prob_head = 0.5\n",
    "event = 0\n",
    "event_head = 0\n",
    "\n",
    "for _ in range(0, n_simulations):\n",
    "    if np.random.uniform() > prob_head:\n",
    "        event_head =event_head + 1\n",
    "        value = np.random.choice(u1)\n",
    "        if value == 'b':\n",
    "            event = event + 1\n",
    "        \n",
    "        \n",
    "event/event_head"
   ]
  },
  {
   "cell_type": "markdown",
   "id": "bd79fc99-40c7-4404-a3a7-039ba92a893a",
   "metadata": {},
   "source": [
    "### Ex 3"
   ]
  },
  {
   "cell_type": "markdown",
   "id": "bf524455-b1f4-4c32-90ef-535c1c54d452",
   "metadata": {},
   "source": [
    "3 - Uma urna contém 4 bolas brancas e 5 bolas pretas. Retira-se sucessivamente e sem reposição, duas bolas dessa urna. Calcule a probabilidade de as bolas selecionadas terem cores diferentes?"
   ]
  },
  {
   "cell_type": "code",
   "execution_count": 356,
   "id": "f89b1baf-e8fe-4c2e-8374-478d3e8b155f",
   "metadata": {},
   "outputs": [
    {
     "data": {
      "text/plain": [
       "0.543"
      ]
     },
     "execution_count": 356,
     "metadata": {},
     "output_type": "execute_result"
    }
   ],
   "source": [
    "u_ = ['b', 'b', 'b', 'b', 'p', 'p' ,'p', 'p', 'p']\n",
    "event = 0\n",
    "\n",
    "for _ in range(0, n_simulations):\n",
    "    results = []\n",
    "    results.append(np.random.choice(u_, size=2, replace=False))\n",
    "    if results[0][0] != results[0][1]:\n",
    "        event = event + 1\n",
    "        \n",
    "event/n_simulations"
   ]
  },
  {
   "cell_type": "code",
   "execution_count": 7,
   "id": "59794de9-39f4-439b-a8f5-0e6685d54ed2",
   "metadata": {},
   "outputs": [
    {
     "data": {
      "text/plain": [
       "0.19753086419753085"
      ]
     },
     "execution_count": 7,
     "metadata": {},
     "output_type": "execute_result"
    }
   ],
   "source": [
    "B = 4/9\n",
    "P = 5/9\n",
    "\n",
    "P_diferentes = B * (5/9 - 1/9)\n",
    "P_diferentes"
   ]
  },
  {
   "cell_type": "markdown",
   "id": "59963927-df0e-4f4a-a4b8-ec1c9de34d37",
   "metadata": {},
   "source": [
    "### Ex 4"
   ]
  },
  {
   "cell_type": "markdown",
   "id": "1df579a5-90aa-4d9e-af26-1fbfc5950f9d",
   "metadata": {},
   "source": [
    "4 - Um suspeito foi preso e o delegado está 60\\% convencido de que o suspeito é o assaltante procurado. Uma nova prova revela que o assaltante é tatuado, permitindo assim que o delegado atualize seu nível de certeza sobre a culpabilidade do acusado.\n",
    "Assim, se 20% da população usa tatuagem, quão certo ficará o delegado de que o suspeito é culpado após descobrir que este é tatuado?"
   ]
  },
  {
   "cell_type": "markdown",
   "id": "e72d2a67-63d6-45a5-af6e-435e95a673b2",
   "metadata": {},
   "source": [
    "$P(culpado|tatuagem) = \\frac{P(tatuagem|culpado) * P(culpado)} {P(tatuagem)} $\n",
    "\n",
    "$P(culpado|tatuagem) = \\frac{P(tatuagem|culpado) * P(culpado)} {P(tatuagem|culpado) * P(culpado) + P(tatuagem|¬culpado) * P(¬culpado)} $\n",
    "\n",
    "$P(culpado|tatuagem) = \\frac{1 * 0.6} {1 * 0.6 + 0.2 * 0.4} $"
   ]
  },
  {
   "cell_type": "code",
   "execution_count": 11,
   "id": "2a7c860a-e1b6-46ec-9308-a2b78a55efb4",
   "metadata": {},
   "outputs": [
    {
     "data": {
      "text/plain": [
       "0.8823529411764707"
      ]
     },
     "execution_count": 11,
     "metadata": {},
     "output_type": "execute_result"
    }
   ],
   "source": [
    "1*0.6/(1*0.6 + 0.2 * 0.4)\n"
   ]
  },
  {
   "cell_type": "markdown",
   "id": "a858cec3-094f-4e0f-9176-5239b2e80898",
   "metadata": {},
   "source": [
    "### Ex 5"
   ]
  },
  {
   "cell_type": "markdown",
   "id": "83fb458c-563e-4c12-9118-b260f020a822",
   "metadata": {},
   "source": [
    "5 - Um laboratório que faz testes sanguíneos apresenta eficácia de 95% na detecção de uma certa doença quando, de fato, a pessoa está doente (verdadeiro positivo). A taxa de falso positivos, ou seja, quando o teste afirma que o paciente tem a doença, embora seja saudável, é de 2%. Se 0,1% da população realmente tem a doença, qual é a probabilidade de que uma pessoa tenha a doença dado que o teste foi positivo."
   ]
  },
  {
   "cell_type": "code",
   "execution_count": 375,
   "id": "6cbbd0c8-6d42-4c44-bf95-bbcd3ea44fbe",
   "metadata": {},
   "outputs": [
    {
     "data": {
      "text/plain": [
       "0.999"
      ]
     },
     "execution_count": 375,
     "metadata": {},
     "output_type": "execute_result"
    }
   ],
   "source": [
    "VP = 0.95\n",
    "FN = 0.05\n",
    "FP = 0.02\n",
    "VN = 0.88\n",
    "prevalencia = 0.001\n",
    "1-0.001"
   ]
  },
  {
   "cell_type": "markdown",
   "id": "de5def08-a943-411e-8729-34b1afaf38b9",
   "metadata": {},
   "source": [
    "$ P(doente|positivo) = \\frac {P(positivo|doente) * P(doente)} {P(positivo)} $\n",
    "\n",
    "$ P(positivo) = (P(positivo|doente) * P(doente)) + (P(positivo|naodoente) * P(naodoente)) $\n",
    "\n",
    "$ P(doente|positivo) = \\frac {P(positivo|doente) * P(doente)} {(P(positivo|doente) * P(doente)) + (P(positivo|naodoente) * P(naodoente))} $\n",
    "\n",
    "\n",
    "$ P(doente|positivo) = \\frac {0.95 * 0.001} { (0.95 * 0.001) + (0.02 * 0.999) } $"
   ]
  },
  {
   "cell_type": "code",
   "execution_count": 8,
   "id": "7276bab0-b8cc-4407-8e2c-0fa77a816fc4",
   "metadata": {},
   "outputs": [
    {
     "data": {
      "text/plain": [
       "0.045"
      ]
     },
     "execution_count": 8,
     "metadata": {},
     "output_type": "execute_result"
    }
   ],
   "source": [
    "round(((0.95*0.001)/ ((0.95*0.001) + (0.02*0.999))),3)"
   ]
  },
  {
   "cell_type": "code",
   "execution_count": 384,
   "id": "09f53ba9-2fcc-4d0f-827f-846610eac24d",
   "metadata": {},
   "outputs": [
    {
     "name": "stdout",
     "output_type": "stream",
     "text": [
      "Frequencia: 0.6915113871635611\n",
      "Valor teórico: 0.7142857142857143\n"
     ]
    }
   ],
   "source": [
    "import random\n",
    "import numpy as np\n",
    "Omega = np.arange(1,16)\n",
    "N = 1000\n",
    "p = 0\n",
    "npar = 0\n",
    "for i in range(0,N):\n",
    "    valor = random.choice(Omega)\n",
    "    if((valor % 2) == 0):\n",
    "        npar = npar + 1\n",
    "        if(valor > 5):\n",
    "            p = p + 1\n",
    "p = p/npar\n",
    "print('Frequencia:', p)\n",
    "print('Valor teórico:', 5/7)"
   ]
  },
  {
   "cell_type": "code",
   "execution_count": 385,
   "id": "8e65eaab-5194-45ff-8129-9139e79f3da2",
   "metadata": {},
   "outputs": [
    {
     "name": "stdout",
     "output_type": "stream",
     "text": [
      "Frequencia: 0.6965811965811965\n",
      "Valor teórico: 0.7142857142857143\n"
     ]
    }
   ],
   "source": [
    "import random\n",
    "import numpy as np\n",
    "Omega = [1,2,3,4,5,6,7,8,9,10,11,12,13,14,15]\n",
    "N = 1000\n",
    "p = 0\n",
    "npar = 0\n",
    "for i in range(0,N):\n",
    "    valor = random.choice(Omega)\n",
    "    if((valor % 2) == 0):\n",
    "        npar = npar + 1\n",
    "        if(valor > 5):\n",
    "            p = p + 1\n",
    "p = p/npar\n",
    "print('Frequencia:', p)\n",
    "print('Valor teórico:', 5/7)"
   ]
  }
 ],
 "metadata": {
  "kernelspec": {
   "display_name": "Python 3 (ipykernel)",
   "language": "python",
   "name": "python3"
  },
  "language_info": {
   "codemirror_mode": {
    "name": "ipython",
    "version": 3
   },
   "file_extension": ".py",
   "mimetype": "text/x-python",
   "name": "python",
   "nbconvert_exporter": "python",
   "pygments_lexer": "ipython3",
   "version": "3.9.5"
  }
 },
 "nbformat": 4,
 "nbformat_minor": 5
}
