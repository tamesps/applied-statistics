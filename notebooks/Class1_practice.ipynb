{
 "cells": [
  {
   "cell_type": "markdown",
   "id": "23153364-2adf-4edd-beb0-6428071b57e9",
   "metadata": {},
   "source": [
    "## Aula 1"
   ]
  },
  {
   "cell_type": "markdown",
   "id": "49997a41-b8d7-47dd-8b12-9b59502657f8",
   "metadata": {},
   "source": [
    "#### Exercícios "
   ]
  },
  {
   "cell_type": "markdown",
   "id": "c6b002be-5a66-4700-beea-2ab8eefaf52e",
   "metadata": {},
   "source": [
    "1 - Assinale a afirmação incorreta:\n",
    "\n",
    "a) Eventos mutuamente exclusivos nunca ocorrem ao mesmo tempo.\n",
    "\n",
    "b) A probabilidade da união de de dois eventos mutuamente exclusivos é igual à soma de suas probabilidades.\n",
    "\n",
    "c) A medida de probabilidade de um evento ocorre no intervalo [0,1].\n",
    "\n",
    "d) A probabilidade de ocorrência do espaço amostral E é P(E) = 1.\n",
    "\n",
    "**e) Eventos mutuamente exclusivos são sempre independentes.**\n",
    " "
   ]
  },
  {
   "cell_type": "markdown",
   "id": "4ba133d7-f66a-436c-bfb1-c86e0b91b14a",
   "metadata": {},
   "source": [
    "2 - Lançando dois dados equilibrados, qual é a probabilidade de obter-se a soma maior do que 7:\n",
    "\n",
    "a) 15/36\n",
    "\n",
    "b) 10/36 \n",
    "\n",
    "c) 7/36\n",
    "\n",
    "d) 12/36\n",
    "\n",
    "**e) 15/36**"
   ]
  },
  {
   "cell_type": "code",
   "execution_count": 203,
   "id": "eaff5c74-18cc-42fc-8031-19fb4716b145",
   "metadata": {},
   "outputs": [
    {
     "name": "stdout",
     "output_type": "stream",
     "text": [
      "Probabilidade simulada da soma maior que 7: 0.432\n"
     ]
    }
   ],
   "source": [
    "dado1 = [1,2,3,4,5,6]\n",
    "dado2 = [1,2,3,4,5,6]\n",
    "n_simulations = 1000\n",
    "event = 0\n",
    "for _ in range(0, n_simulations):\n",
    "    v_dado1 = np.random.choice(dado1)\n",
    "    v_dado2 = np.random.choice(dado2)\n",
    "\n",
    "    if v_dado1 + v_dado2 > 7:\n",
    "        event = event + 1\n",
    "        \n",
    "print(\"Probabilidade simulada da soma maior que 7:\", event/n_simulations)"
   ]
  },
  {
   "cell_type": "code",
   "execution_count": 206,
   "id": "6d299a20-934f-4b26-a732-6ebf4cfade0f",
   "metadata": {},
   "outputs": [
    {
     "name": "stdout",
     "output_type": "stream",
     "text": [
      "Probabilidade teórica da soma maior que 7: 0.42\n"
     ]
    }
   ],
   "source": [
    "from itertools import product\n",
    "\n",
    "combinacoes = (list(product(dado1, dado2)))\n",
    "\n",
    "\n",
    "total_ways = [i[0] + i[1] for i in combinacoes]\n",
    "\n",
    "ways_of_interest = []\n",
    "\n",
    "for i in range(0, len(total_ways)):\n",
    "    if total_ways[i] > 7:\n",
    "        ways_of_interest.append(x[i])\n",
    "        \n",
    "        \n",
    "print(\"Probabilidade teórica da soma maior que 7:\", round((len(ways)/len(total_ways)),2))"
   ]
  },
  {
   "cell_type": "markdown",
   "id": "74b9f344-c898-4e8f-870c-84667f852b06",
   "metadata": {},
   "source": [
    "\n",
    "$ P(A) =  \\frac {15} {36} $ \n",
    "\n"
   ]
  }
 ],
 "metadata": {
  "kernelspec": {
   "display_name": "Python 3 (ipykernel)",
   "language": "python",
   "name": "python3"
  },
  "language_info": {
   "codemirror_mode": {
    "name": "ipython",
    "version": 3
   },
   "file_extension": ".py",
   "mimetype": "text/x-python",
   "name": "python",
   "nbconvert_exporter": "python",
   "pygments_lexer": "ipython3",
   "version": "3.9.5"
  }
 },
 "nbformat": 4,
 "nbformat_minor": 5
}
