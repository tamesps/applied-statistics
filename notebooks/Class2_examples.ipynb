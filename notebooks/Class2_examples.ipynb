{
 "cells": [
  {
   "cell_type": "markdown",
   "id": "a9c08d40-64e7-4f80-a2f8-a11a4a3b956d",
   "metadata": {},
   "source": [
    "## Aula 2"
   ]
  },
  {
   "cell_type": "markdown",
   "id": "7d3dbe5e-51bc-4250-9ed0-a477eb45ea93",
   "metadata": {},
   "source": [
    "### Exemplos de aula"
   ]
  },
  {
   "cell_type": "code",
   "execution_count": 11,
   "id": "ae064148-0a83-4ecf-949f-e7a3b146c9eb",
   "metadata": {},
   "outputs": [],
   "source": [
    "import random\n",
    "import numpy as np"
   ]
  },
  {
   "cell_type": "markdown",
   "id": "520c6867-c614-40c7-a787-4847f276a597",
   "metadata": {},
   "source": [
    "**Exemplo**: Calcule $P(A|B)$, onde: $\\Omega = \\{1,2,3,\\ldots, 15\\}$<br>\n",
    "A: Sai um valor maior do que 5.<br>\n",
    "B: sai um valor par<br>"
   ]
  },
  {
   "cell_type": "code",
   "execution_count": 382,
   "id": "bc742be7-3b8e-45f7-8a5e-9e858fa6737f",
   "metadata": {},
   "outputs": [],
   "source": [
    "Omega = np.arange(1,16)\n",
    "n_simulations = 1000\n",
    "n_even = 0\n",
    "n_also_greater_than_5 = 0\n",
    "\n",
    "for _ in range(0, n_simulations):\n",
    "    value = np.random.choice(Omega)\n",
    "    if ((value % 2) == 0):\n",
    "        n_even = n_even + 1\n",
    "        if (value > 5):\n",
    "            n_also_greater_than_5 = n_also_greater_than_5 + 1"
   ]
  },
  {
   "cell_type": "code",
   "execution_count": 381,
   "id": "5cee0ed2-bd40-4d62-a2f0-37f71d42fa07",
   "metadata": {},
   "outputs": [
    {
     "data": {
      "text/plain": [
       "0.7149220489977728"
      ]
     },
     "execution_count": 381,
     "metadata": {},
     "output_type": "execute_result"
    }
   ],
   "source": [
    "n_also_greater_than_5/n_even"
   ]
  },
  {
   "cell_type": "code",
   "execution_count": 49,
   "id": "6cbd115b-d9f8-4184-a217-2634404fc959",
   "metadata": {},
   "outputs": [
    {
     "data": {
      "text/plain": [
       "0.7142857142857142"
      ]
     },
     "execution_count": 49,
     "metadata": {},
     "output_type": "execute_result"
    }
   ],
   "source": [
    "B_A = 5/15 #p_even_given_greater_than_5\n",
    "B = 7/15 #p_even\n",
    "\n",
    "B_A / B "
   ]
  },
  {
   "cell_type": "markdown",
   "id": "0c7e3a62-665b-457c-902d-631abc074538",
   "metadata": {},
   "source": [
    "**Exemplo**: Suponha que cinco lâmpadas perfeitas são misturadas com duas lâmpadas defeituosas, que não funcionam. Para encontrar as lâmpadas defeituosas, temos que testar uma a uma, sem substituição. Qual é a probabilidade de encontrarmos as duas lâmpadas defeituosas nos dois primeiros testes? "
   ]
  },
  {
   "cell_type": "code",
   "execution_count": 143,
   "id": "7781da67-79ae-49e5-908c-ff8674c69262",
   "metadata": {},
   "outputs": [
    {
     "name": "stdout",
     "output_type": "stream",
     "text": [
      "Frequencia simulada: 0.04\n",
      "Valor teórico: 0.05\n"
     ]
    }
   ],
   "source": [
    "lampadas = ['p','p','p','p', 'p', 'd','d']\n",
    "\n",
    "results = []\n",
    "for _ in range(n_simulations):\n",
    "    results.append(np.random.choice(lampadas, size=2, replace=False))\n",
    "\n",
    "results = np.vstack(results)\n",
    "\n",
    "p = ((results[:, 0] == 'd') & (results[:, 1] == 'd')).mean()\n",
    "\n",
    "print('Frequencia simulada:', p)\n",
    "print('Valor teórico:', round((1/6 * 2/7),2))"
   ]
  },
  {
   "cell_type": "markdown",
   "id": "597b511b-e3b1-40e4-bd3d-e4d857f0f1d2",
   "metadata": {},
   "source": [
    "$P(D_1 \\bigcap D_2) =  P(D_1) * P(D_2|D_1)$\n",
    "\n",
    "<p> $P(D_1 \\bigcap D_2) =  \\frac{2}{7} * \\frac {1} {6} $\n",
    "\n"
   ]
  }
 ],
 "metadata": {
  "kernelspec": {
   "display_name": "Python 3 (ipykernel)",
   "language": "python",
   "name": "python3"
  },
  "language_info": {
   "codemirror_mode": {
    "name": "ipython",
    "version": 3
   },
   "file_extension": ".py",
   "mimetype": "text/x-python",
   "name": "python",
   "nbconvert_exporter": "python",
   "pygments_lexer": "ipython3",
   "version": "3.9.5"
  }
 },
 "nbformat": 4,
 "nbformat_minor": 5
}
